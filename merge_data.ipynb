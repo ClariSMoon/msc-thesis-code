{
 "cells": [
  {
   "cell_type": "code",
   "execution_count": 1,
   "metadata": {
    "_cell_guid": "b1076dfc-b9ad-4769-8c92-a6c4dae69d19",
    "_uuid": "8f2839f25d086af736a60e9eeb907d3b93b6e0e5",
    "execution": {
     "iopub.execute_input": "2024-12-15T11:28:56.753100Z",
     "iopub.status.busy": "2024-12-15T11:28:56.752346Z",
     "iopub.status.idle": "2024-12-15T11:28:59.539016Z",
     "shell.execute_reply": "2024-12-15T11:28:59.537729Z",
     "shell.execute_reply.started": "2024-12-15T11:28:56.753007Z"
    },
    "trusted": true
   },
   "outputs": [],
   "source": [
    "import numpy as np\n",
    "import pandas as pd\n",
    "import matplotlib.pyplot as plt\n",
    "import seaborn as sns\n",
    "from pyarrow import parquet"
   ]
  },
  {
   "cell_type": "code",
   "execution_count": 148,
   "metadata": {
    "execution": {
     "iopub.execute_input": "2024-12-15T13:39:21.798683Z",
     "iopub.status.busy": "2024-12-15T13:39:21.797692Z",
     "iopub.status.idle": "2024-12-15T13:39:23.243872Z",
     "shell.execute_reply": "2024-12-15T13:39:23.242565Z",
     "shell.execute_reply.started": "2024-12-15T13:39:21.798622Z"
    },
    "trusted": true
   },
   "outputs": [],
   "source": [
    "df_situ_avg = pd.read_parquet('/kaggle/input/preprocessed-new/situ_avg.parquet')\n",
    "df_8days_1km_mean = pd.read_parquet('/kaggle/input/preprocessed-new/modis_8days_1km_mean.parquet')"
   ]
  },
  {
   "cell_type": "code",
   "execution_count": 3,
   "metadata": {
    "execution": {
     "iopub.execute_input": "2024-12-15T11:29:07.448685Z",
     "iopub.status.busy": "2024-12-15T11:29:07.447727Z",
     "iopub.status.idle": "2024-12-15T11:29:18.840246Z",
     "shell.execute_reply": "2024-12-15T11:29:18.838719Z",
     "shell.execute_reply.started": "2024-12-15T11:29:07.448616Z"
    },
    "trusted": true
   },
   "outputs": [],
   "source": [
    "df_situ_original = pd.read_parquet('/kaggle/input/thesis-parquet/Combined_Scandinavia.parquet')"
   ]
  },
  {
   "cell_type": "code",
   "execution_count": 4,
   "metadata": {
    "execution": {
     "iopub.execute_input": "2024-12-15T11:29:18.842887Z",
     "iopub.status.busy": "2024-12-15T11:29:18.842431Z",
     "iopub.status.idle": "2024-12-15T11:29:34.005755Z",
     "shell.execute_reply": "2024-12-15T11:29:34.004700Z",
     "shell.execute_reply.started": "2024-12-15T11:29:18.842839Z"
    },
    "trusted": true
   },
   "outputs": [],
   "source": [
    "# Extract hours, dates and years\n",
    "df_situ_original['Hour'] = df_situ_original['Datetime'].dt.hour  # Extract the hour from the 'Datetime'\n",
    "df_situ_original['Date'] = df_situ_original['Datetime'].dt.date  # Extract the date\n",
    "df_situ_original['Year'] = df_situ_original['Datetime'].dt.year  # Extract the year for filtering\n",
    "\n",
    "# Define day and night hour ranges\n",
    "day_hours = [11, 12, 13, 14]\n",
    "night_hours = [19, 20, 21, 22]\n",
    "\n",
    "# Filter data to include only years from 2000 to 2022\n",
    "df_situ_original = df_situ_original[(df_situ_original['Year'] >= 2000) & (df_situ_original['Year'] <= 2022)]"
   ]
  },
  {
   "cell_type": "code",
   "execution_count": 13,
   "metadata": {
    "execution": {
     "iopub.execute_input": "2024-12-15T11:16:49.136781Z",
     "iopub.status.busy": "2024-12-15T11:16:49.136289Z",
     "iopub.status.idle": "2024-12-15T11:16:49.155655Z",
     "shell.execute_reply": "2024-12-15T11:16:49.153829Z",
     "shell.execute_reply.started": "2024-12-15T11:16:49.136734Z"
    },
    "trusted": true
   },
   "outputs": [
    {
     "name": "stdout",
     "output_type": "stream",
     "text": [
      "<class 'pandas.core.frame.DataFrame'>\n",
      "Index: 23340301 entries, 49964 to 412773\n",
      "Data columns (total 43 columns):\n",
      " #   Column              Dtype         \n",
      "---  ------              -----         \n",
      " 0   Latitude            float64       \n",
      " 1   Longitude           float64       \n",
      " 2   Elevation           float64       \n",
      " 3   Snow_depth          float64       \n",
      " 4   T_air               float64       \n",
      " 5   Precipitation       float64       \n",
      " 6   RH                  float64       \n",
      " 7   Datetime            datetime64[us]\n",
      " 8   LWin                float64       \n",
      " 9   LWOut               float64       \n",
      " 10  SWin                float64       \n",
      " 11  SWout               float64       \n",
      " 12  T_surf              float64       \n",
      " 13  T_soil_5            float64       \n",
      " 14  T_soil_10           float64       \n",
      " 15  T_soil_15           float64       \n",
      " 16  T_soil_20           float64       \n",
      " 17  T_soil_25           float64       \n",
      " 18  T_soil_30           float64       \n",
      " 19  T_soil_40           float64       \n",
      " 20  T_soil_50           float64       \n",
      " 21  T_soil_60           float64       \n",
      " 22  T_soil_65           float64       \n",
      " 23  T_soil_70           float64       \n",
      " 24  T_soil_75           float64       \n",
      " 25  T_soil_80           float64       \n",
      " 26  T_soil_90           float64       \n",
      " 27  T_soil_110          float64       \n",
      " 28  T_soil_140          float64       \n",
      " 29  T_soil_150          float64       \n",
      " 30  T_soil_200          float64       \n",
      " 31  Soil_moisture_5cm   float64       \n",
      " 32  Soil_moisture_10cm  float64       \n",
      " 33  Soil_moisture_14cm  float64       \n",
      " 34  Soil_moisture_20cm  float64       \n",
      " 35  Soil_moisture_25cm  float64       \n",
      " 36  Soil_moisture_30cm  float64       \n",
      " 37  Soil_moisture_40cm  float64       \n",
      " 38  Soil_moisture_50cm  float64       \n",
      " 39  Soil_moisture_80cm  float64       \n",
      " 40  Hour                float64       \n",
      " 41  Date                object        \n",
      " 42  Year                float64       \n",
      "dtypes: datetime64[us](1), float64(41), object(1)\n",
      "memory usage: 7.7+ GB\n"
     ]
    }
   ],
   "source": [
    "df_situ_original.info()"
   ]
  },
  {
   "cell_type": "code",
   "execution_count": 5,
   "metadata": {
    "execution": {
     "iopub.execute_input": "2024-12-15T11:29:34.007934Z",
     "iopub.status.busy": "2024-12-15T11:29:34.007566Z",
     "iopub.status.idle": "2024-12-15T11:29:49.345294Z",
     "shell.execute_reply": "2024-12-15T11:29:49.344197Z",
     "shell.execute_reply.started": "2024-12-15T11:29:34.007898Z"
    },
    "trusted": true
   },
   "outputs": [],
   "source": [
    "# Filter data for day and night\n",
    "day_data = df_situ_original[df_situ_original['Hour'].isin(day_hours)]\n",
    "night_data = df_situ_original[df_situ_original['Hour'].isin(night_hours)]\n",
    "\n",
    "# Group by 'Point' and 'Date' to calculate mean for each numeric column, ignoring NaNs\n",
    "day_avg = (\n",
    "    day_data.groupby(['Latitude', 'Longitude', 'Date'], as_index=False)\n",
    "    .agg({'T_air': 'mean', 'Elevation': 'first'})  # Replace 'Temperature' with the actual column name for temperature\n",
    "    .rename(columns={'T_air': 'T_air_day'})  # Rename the column\n",
    ")\n",
    "\n",
    "night_avg = (\n",
    "    night_data.groupby(['Latitude', 'Longitude', 'Date'], as_index=False)\n",
    "    .agg({'T_air': 'mean', 'Elevation': 'first'})  # Replace 'Temperature' with the actual column name for temperature\n",
    "    .rename(columns={'T_air': 'T_air_night'})  # Rename the column\n",
    ")"
   ]
  },
  {
   "cell_type": "code",
   "execution_count": 6,
   "metadata": {
    "execution": {
     "iopub.execute_input": "2024-12-15T11:29:49.347193Z",
     "iopub.status.busy": "2024-12-15T11:29:49.346699Z",
     "iopub.status.idle": "2024-12-15T11:29:49.721857Z",
     "shell.execute_reply": "2024-12-15T11:29:49.720644Z",
     "shell.execute_reply.started": "2024-12-15T11:29:49.347140Z"
    },
    "trusted": true
   },
   "outputs": [],
   "source": [
    "# Merge day and night averages on 'Point' and 'Date'\n",
    "df_situ_avg = pd.merge(day_avg, night_avg, on=['Latitude', 'Longitude', 'Date'], how='outer')"
   ]
  },
  {
   "cell_type": "code",
   "execution_count": 8,
   "metadata": {
    "execution": {
     "iopub.execute_input": "2024-12-15T11:31:57.848467Z",
     "iopub.status.busy": "2024-12-15T11:31:57.847980Z",
     "iopub.status.idle": "2024-12-15T11:31:57.927792Z",
     "shell.execute_reply": "2024-12-15T11:31:57.926757Z",
     "shell.execute_reply.started": "2024-12-15T11:31:57.848422Z"
    },
    "trusted": true
   },
   "outputs": [],
   "source": [
    "df_situ_avg = df_situ_avg.drop(columns=['Elevation_y']).rename(columns={'Elevation_x': 'Elevation'})"
   ]
  },
  {
   "cell_type": "code",
   "execution_count": 11,
   "metadata": {
    "execution": {
     "iopub.execute_input": "2024-12-15T11:33:03.159359Z",
     "iopub.status.busy": "2024-12-15T11:33:03.158921Z",
     "iopub.status.idle": "2024-12-15T11:33:03.405622Z",
     "shell.execute_reply": "2024-12-15T11:33:03.404160Z",
     "shell.execute_reply.started": "2024-12-15T11:33:03.159321Z"
    },
    "trusted": true
   },
   "outputs": [],
   "source": [
    "df_situ_avg.to_parquet(\"situ_avg.parquet\", index=False)"
   ]
  },
  {
   "cell_type": "code",
   "execution_count": 150,
   "metadata": {
    "execution": {
     "iopub.execute_input": "2024-12-15T13:39:41.894642Z",
     "iopub.status.busy": "2024-12-15T13:39:41.893657Z",
     "iopub.status.idle": "2024-12-15T13:39:42.667694Z",
     "shell.execute_reply": "2024-12-15T13:39:42.666334Z",
     "shell.execute_reply.started": "2024-12-15T13:39:41.894593Z"
    },
    "trusted": true
   },
   "outputs": [],
   "source": [
    "# Extract the actual date part using regex\n",
    "df_8days_1km_mean['date'] = df_8days_1km_mean['system:index'].str.extract(r'(\\d{4}_\\d{2}_\\d{2})')"
   ]
  },
  {
   "cell_type": "code",
   "execution_count": 151,
   "metadata": {
    "execution": {
     "iopub.execute_input": "2024-12-15T13:39:50.115977Z",
     "iopub.status.busy": "2024-12-15T13:39:50.115526Z",
     "iopub.status.idle": "2024-12-15T13:39:50.223727Z",
     "shell.execute_reply": "2024-12-15T13:39:50.222388Z",
     "shell.execute_reply.started": "2024-12-15T13:39:50.115935Z"
    },
    "trusted": true
   },
   "outputs": [],
   "source": [
    "# Step 1: Convert 'date' column to datetime.date format\n",
    "df_8days_1km_mean['date'] = pd.to_datetime(df_8days_1km_mean['date'], format='%Y_%m_%d').dt.date"
   ]
  },
  {
   "cell_type": "code",
   "execution_count": 152,
   "metadata": {
    "execution": {
     "iopub.execute_input": "2024-12-15T13:39:57.152519Z",
     "iopub.status.busy": "2024-12-15T13:39:57.151500Z",
     "iopub.status.idle": "2024-12-15T13:39:57.161610Z",
     "shell.execute_reply": "2024-12-15T13:39:57.160505Z",
     "shell.execute_reply.started": "2024-12-15T13:39:57.152465Z"
    },
    "trusted": true
   },
   "outputs": [],
   "source": [
    "# Step 2: Round latitude and longitude for fuzzy matching\n",
    "df_8days_1km_mean['Latitude'] = df_8days_1km_mean['Latitude'].round(5)\n",
    "df_8days_1km_mean['Longitude'] = df_8days_1km_mean['Longitude'].round(5)"
   ]
  },
  {
   "cell_type": "code",
   "execution_count": 153,
   "metadata": {
    "execution": {
     "iopub.execute_input": "2024-12-15T13:40:02.833718Z",
     "iopub.status.busy": "2024-12-15T13:40:02.832578Z",
     "iopub.status.idle": "2024-12-15T13:40:02.844131Z",
     "shell.execute_reply": "2024-12-15T13:40:02.842671Z",
     "shell.execute_reply.started": "2024-12-15T13:40:02.833665Z"
    },
    "trusted": true
   },
   "outputs": [],
   "source": [
    "# Step 3: Convert specified columns in df2\n",
    "columns_to_convert = ['LST_Day_1km', 'LST_Night_1km']  # Replace with the actual column names in df2\n",
    "df_8days_1km_mean[columns_to_convert] = (df_8days_1km_mean[columns_to_convert] * 0.02) - 273.15"
   ]
  },
  {
   "cell_type": "code",
   "execution_count": 159,
   "metadata": {
    "execution": {
     "iopub.execute_input": "2024-12-15T13:41:02.737295Z",
     "iopub.status.busy": "2024-12-15T13:41:02.736847Z",
     "iopub.status.idle": "2024-12-15T13:41:02.832366Z",
     "shell.execute_reply": "2024-12-15T13:41:02.831153Z",
     "shell.execute_reply.started": "2024-12-15T13:41:02.737257Z"
    },
    "trusted": true
   },
   "outputs": [],
   "source": [
    "# Step 4: Perform the join\n",
    "# Match on rounded lat/lon and Date\n",
    "joined_df = pd.merge(\n",
    "    eight_day_avg, df_8days_1km_mean,\n",
    "    left_on=['Latitude', 'Longitude', 'Date'],\n",
    "    right_on=['Latitude', 'Longitude', 'date'],\n",
    "    how='inner'\n",
    ")"
   ]
  },
  {
   "cell_type": "code",
   "execution_count": 161,
   "metadata": {
    "execution": {
     "iopub.execute_input": "2024-12-15T13:41:09.248679Z",
     "iopub.status.busy": "2024-12-15T13:41:09.248257Z",
     "iopub.status.idle": "2024-12-15T13:41:09.274689Z",
     "shell.execute_reply": "2024-12-15T13:41:09.273325Z",
     "shell.execute_reply.started": "2024-12-15T13:41:09.248642Z"
    },
    "trusted": true
   },
   "outputs": [
    {
     "name": "stdout",
     "output_type": "stream",
     "text": [
      "<class 'pandas.core.frame.DataFrame'>\n",
      "RangeIndex: 91525 entries, 0 to 91524\n",
      "Data columns (total 14 columns):\n",
      " #   Column         Non-Null Count  Dtype         \n",
      "---  ------         --------------  -----         \n",
      " 0   Latitude       91525 non-null  float64       \n",
      " 1   Longitude      91525 non-null  float64       \n",
      " 2   8_day_period   91525 non-null  int32         \n",
      " 3   T_air_day      83254 non-null  float64       \n",
      " 4   T_air_night    79566 non-null  float64       \n",
      " 5   Elevation      88891 non-null  float64       \n",
      " 6   Date           91525 non-null  datetime64[ns]\n",
      " 7   Data period    10394 non-null  object        \n",
      " 8   LST_Day_1km    82870 non-null  float64       \n",
      " 9   LST_Night_1km  83713 non-null  float64       \n",
      " 10  Name           91525 non-null  object        \n",
      " 11  QC_Day         91213 non-null  float64       \n",
      " 12  QC_Night       90975 non-null  float64       \n",
      " 13  .geo           91525 non-null  object        \n",
      "dtypes: datetime64[ns](1), float64(9), int32(1), object(3)\n",
      "memory usage: 9.4+ MB\n"
     ]
    }
   ],
   "source": [
    "joined_df.info()"
   ]
  },
  {
   "cell_type": "code",
   "execution_count": 160,
   "metadata": {
    "execution": {
     "iopub.execute_input": "2024-12-15T13:41:06.322629Z",
     "iopub.status.busy": "2024-12-15T13:41:06.322226Z",
     "iopub.status.idle": "2024-12-15T13:41:06.335626Z",
     "shell.execute_reply": "2024-12-15T13:41:06.334580Z",
     "shell.execute_reply.started": "2024-12-15T13:41:06.322596Z"
    },
    "trusted": true
   },
   "outputs": [],
   "source": [
    "# Step 5: Drop redundant lat/lon columns from df2 if needed\n",
    "joined_df.drop(columns=['date', 'system:index'], inplace=True)"
   ]
  },
  {
   "cell_type": "code",
   "execution_count": 21,
   "metadata": {
    "execution": {
     "iopub.execute_input": "2024-12-15T11:37:14.040328Z",
     "iopub.status.busy": "2024-12-15T11:37:14.039850Z",
     "iopub.status.idle": "2024-12-15T11:37:14.071151Z",
     "shell.execute_reply": "2024-12-15T11:37:14.069926Z",
     "shell.execute_reply.started": "2024-12-15T11:37:14.040289Z"
    },
    "trusted": true
   },
   "outputs": [
    {
     "data": {
      "text/plain": [
       "123"
      ]
     },
     "execution_count": 21,
     "metadata": {},
     "output_type": "execute_result"
    }
   ],
   "source": [
    "joined_df[['Longitude', 'Latitude']].drop_duplicates().shape[0]"
   ]
  },
  {
   "cell_type": "code",
   "execution_count": 163,
   "metadata": {
    "execution": {
     "iopub.execute_input": "2024-12-15T13:41:53.122108Z",
     "iopub.status.busy": "2024-12-15T13:41:53.121660Z",
     "iopub.status.idle": "2024-12-15T13:41:53.459703Z",
     "shell.execute_reply": "2024-12-15T13:41:53.458414Z",
     "shell.execute_reply.started": "2024-12-15T13:41:53.122055Z"
    },
    "trusted": true
   },
   "outputs": [],
   "source": [
    "joined_df.to_parquet(\"8_joined_8day_1km_mean.parquet\", index=False)"
   ]
  },
  {
   "cell_type": "code",
   "execution_count": 90,
   "metadata": {
    "execution": {
     "iopub.execute_input": "2024-12-15T13:17:00.322652Z",
     "iopub.status.busy": "2024-12-15T13:17:00.322204Z",
     "iopub.status.idle": "2024-12-15T13:17:00.385103Z",
     "shell.execute_reply": "2024-12-15T13:17:00.383757Z",
     "shell.execute_reply.started": "2024-12-15T13:17:00.322614Z"
    },
    "trusted": true
   },
   "outputs": [
    {
     "name": "stdout",
     "output_type": "stream",
     "text": [
      "<class 'pandas.core.frame.DataFrame'>\n",
      "RangeIndex: 821907 entries, 0 to 821906\n",
      "Data columns (total 6 columns):\n",
      " #   Column       Non-Null Count   Dtype  \n",
      "---  ------       --------------   -----  \n",
      " 0   Latitude     821907 non-null  float64\n",
      " 1   Longitude    821907 non-null  float64\n",
      " 2   Date         821907 non-null  object \n",
      " 3   T_air_day    738083 non-null  float64\n",
      " 4   Elevation    783331 non-null  float64\n",
      " 5   T_air_night  701192 non-null  float64\n",
      "dtypes: float64(5), object(1)\n",
      "memory usage: 37.6+ MB\n"
     ]
    }
   ],
   "source": [
    "df_situ_avg.info()"
   ]
  },
  {
   "cell_type": "code",
   "execution_count": 97,
   "metadata": {
    "execution": {
     "iopub.execute_input": "2024-12-15T13:25:40.769916Z",
     "iopub.status.busy": "2024-12-15T13:25:40.769408Z",
     "iopub.status.idle": "2024-12-15T13:25:42.684884Z",
     "shell.execute_reply": "2024-12-15T13:25:42.683547Z",
     "shell.execute_reply.started": "2024-12-15T13:25:40.769875Z"
    },
    "trusted": true
   },
   "outputs": [],
   "source": [
    "df_situ_avg['Date'] = pd.to_datetime(df_situ_avg['Date'])\n",
    "\n",
    "# Step 1: Assign each date to an 8-day period within the year\n",
    "df_situ_avg['Year'] = df_situ_avg['Date'].dt.year\n",
    "df_situ_avg['Day_of_Year'] = df_situ_avg['Date'].dt.dayofyear\n",
    "\n",
    "# Compute the 8-day period (1-based index)\n",
    "df_situ_avg['8_day_period'] = ((df_situ_avg['Day_of_Year'] - 1) // 8) + 1\n",
    "\n",
    "# Step 2: Handle edge cases for the last period of the year (remaining 5-6 days)\n",
    "# Identify the number of 8-day periods in each year\n",
    "df_situ_avg['Total_8_day_periods'] = df_situ_avg['Year'].apply(lambda year: (pd.Timestamp(f'{year}-12-31').day_of_year - 1) // 8 + 1)\n",
    "\n",
    "# Step 3: Group by Latitude, Longitude, Year, and 8-day period, then calculate the average temperature\n",
    "eight_day_avg = (\n",
    "    df_situ_avg.groupby(['Latitude', 'Longitude', 'Year', '8_day_period'])\n",
    "    .agg({'T_air_day': 'mean', 'T_air_night': 'mean', 'Elevation':'first', 'Date':'min'})  # Replace 'Temperature' with the actual column name\n",
    "    .reset_index()\n",
    ")\n",
    "\n",
    "eight_day_avg.drop(columns=['Year'], inplace=True)"
   ]
  },
  {
   "cell_type": "code",
   "execution_count": 158,
   "metadata": {
    "execution": {
     "iopub.execute_input": "2024-12-15T13:40:47.387387Z",
     "iopub.status.busy": "2024-12-15T13:40:47.386616Z",
     "iopub.status.idle": "2024-12-15T13:40:47.446848Z",
     "shell.execute_reply": "2024-12-15T13:40:47.445526Z",
     "shell.execute_reply.started": "2024-12-15T13:40:47.387321Z"
    },
    "trusted": true
   },
   "outputs": [],
   "source": [
    "df_8days_1km_mean['date'] = pd.to_datetime(df_8days_1km_mean['date'])"
   ]
  },
  {
   "cell_type": "code",
   "execution_count": 124,
   "metadata": {
    "execution": {
     "iopub.execute_input": "2024-12-15T13:33:30.728797Z",
     "iopub.status.busy": "2024-12-15T13:33:30.728354Z",
     "iopub.status.idle": "2024-12-15T13:33:30.753432Z",
     "shell.execute_reply": "2024-12-15T13:33:30.752035Z",
     "shell.execute_reply.started": "2024-12-15T13:33:30.728756Z"
    },
    "trusted": true
   },
   "outputs": [
    {
     "data": {
      "text/html": [
       "<div>\n",
       "<style scoped>\n",
       "    .dataframe tbody tr th:only-of-type {\n",
       "        vertical-align: middle;\n",
       "    }\n",
       "\n",
       "    .dataframe tbody tr th {\n",
       "        vertical-align: top;\n",
       "    }\n",
       "\n",
       "    .dataframe thead th {\n",
       "        text-align: right;\n",
       "    }\n",
       "</style>\n",
       "<table border=\"1\" class=\"dataframe\">\n",
       "  <thead>\n",
       "    <tr style=\"text-align: right;\">\n",
       "      <th></th>\n",
       "      <th>Latitude</th>\n",
       "      <th>Longitude</th>\n",
       "      <th>8_day_period</th>\n",
       "      <th>T_air_day</th>\n",
       "      <th>T_air_night</th>\n",
       "      <th>Elevation</th>\n",
       "      <th>Date</th>\n",
       "    </tr>\n",
       "  </thead>\n",
       "  <tbody>\n",
       "    <tr>\n",
       "      <th>51080</th>\n",
       "      <td>68.08330</td>\n",
       "      <td>27.18330</td>\n",
       "      <td>14</td>\n",
       "      <td>4.250000</td>\n",
       "      <td>-0.200000</td>\n",
       "      <td>247.0</td>\n",
       "      <td>2011-04-15</td>\n",
       "    </tr>\n",
       "    <tr>\n",
       "      <th>101923</th>\n",
       "      <td>77.00000</td>\n",
       "      <td>15.50000</td>\n",
       "      <td>34</td>\n",
       "      <td>1.700000</td>\n",
       "      <td>-1.000000</td>\n",
       "      <td>10.0</td>\n",
       "      <td>2020-09-22</td>\n",
       "    </tr>\n",
       "    <tr>\n",
       "      <th>5059</th>\n",
       "      <td>65.41670</td>\n",
       "      <td>24.13330</td>\n",
       "      <td>21</td>\n",
       "      <td>11.719792</td>\n",
       "      <td>11.896875</td>\n",
       "      <td>13.0</td>\n",
       "      <td>2007-06-10</td>\n",
       "    </tr>\n",
       "    <tr>\n",
       "      <th>23215</th>\n",
       "      <td>66.71670</td>\n",
       "      <td>27.16670</td>\n",
       "      <td>46</td>\n",
       "      <td>0.120000</td>\n",
       "      <td>-0.020000</td>\n",
       "      <td>208.0</td>\n",
       "      <td>2013-12-27</td>\n",
       "    </tr>\n",
       "    <tr>\n",
       "      <th>22426</th>\n",
       "      <td>66.58330</td>\n",
       "      <td>26.01670</td>\n",
       "      <td>2</td>\n",
       "      <td>-9.312500</td>\n",
       "      <td>-9.115625</td>\n",
       "      <td>106.0</td>\n",
       "      <td>2012-01-09</td>\n",
       "    </tr>\n",
       "    <tr>\n",
       "      <th>45524</th>\n",
       "      <td>67.81670</td>\n",
       "      <td>27.75000</td>\n",
       "      <td>19</td>\n",
       "      <td>13.403125</td>\n",
       "      <td>10.015625</td>\n",
       "      <td>243.0</td>\n",
       "      <td>2022-05-25</td>\n",
       "    </tr>\n",
       "    <tr>\n",
       "      <th>28102</th>\n",
       "      <td>67.15000</td>\n",
       "      <td>20.65000</td>\n",
       "      <td>24</td>\n",
       "      <td>14.278125</td>\n",
       "      <td>11.981250</td>\n",
       "      <td>359.0</td>\n",
       "      <td>2019-07-04</td>\n",
       "    </tr>\n",
       "    <tr>\n",
       "      <th>61249</th>\n",
       "      <td>68.46670</td>\n",
       "      <td>17.50000</td>\n",
       "      <td>1</td>\n",
       "      <td>-6.196875</td>\n",
       "      <td>-6.665625</td>\n",
       "      <td>17.0</td>\n",
       "      <td>2016-01-01</td>\n",
       "    </tr>\n",
       "    <tr>\n",
       "      <th>81919</th>\n",
       "      <td>69.68330</td>\n",
       "      <td>18.91670</td>\n",
       "      <td>18</td>\n",
       "      <td>7.856250</td>\n",
       "      <td>5.534375</td>\n",
       "      <td>1.0</td>\n",
       "      <td>2012-05-16</td>\n",
       "    </tr>\n",
       "    <tr>\n",
       "      <th>36192</th>\n",
       "      <td>67.36218</td>\n",
       "      <td>26.63755</td>\n",
       "      <td>33</td>\n",
       "      <td>8.957187</td>\n",
       "      <td>7.155156</td>\n",
       "      <td>NaN</td>\n",
       "      <td>2022-09-14</td>\n",
       "    </tr>\n",
       "    <tr>\n",
       "      <th>84410</th>\n",
       "      <td>69.78330</td>\n",
       "      <td>20.96670</td>\n",
       "      <td>20</td>\n",
       "      <td>15.875000</td>\n",
       "      <td>11.931250</td>\n",
       "      <td>5.0</td>\n",
       "      <td>2021-06-02</td>\n",
       "    </tr>\n",
       "    <tr>\n",
       "      <th>39756</th>\n",
       "      <td>67.65540</td>\n",
       "      <td>12.72700</td>\n",
       "      <td>14</td>\n",
       "      <td>5.478125</td>\n",
       "      <td>4.865625</td>\n",
       "      <td>4.0</td>\n",
       "      <td>2018-04-15</td>\n",
       "    </tr>\n",
       "    <tr>\n",
       "      <th>16480</th>\n",
       "      <td>65.97300</td>\n",
       "      <td>26.36500</td>\n",
       "      <td>17</td>\n",
       "      <td>4.740625</td>\n",
       "      <td>-1.071875</td>\n",
       "      <td>0.0</td>\n",
       "      <td>2020-05-08</td>\n",
       "    </tr>\n",
       "    <tr>\n",
       "      <th>77405</th>\n",
       "      <td>69.46670</td>\n",
       "      <td>25.50000</td>\n",
       "      <td>26</td>\n",
       "      <td>16.043750</td>\n",
       "      <td>11.309375</td>\n",
       "      <td>129.0</td>\n",
       "      <td>2010-07-20</td>\n",
       "    </tr>\n",
       "    <tr>\n",
       "      <th>47733</th>\n",
       "      <td>67.96670</td>\n",
       "      <td>23.68330</td>\n",
       "      <td>24</td>\n",
       "      <td>14.453125</td>\n",
       "      <td>11.806250</td>\n",
       "      <td>253.0</td>\n",
       "      <td>2019-07-04</td>\n",
       "    </tr>\n",
       "    <tr>\n",
       "      <th>66900</th>\n",
       "      <td>68.67620</td>\n",
       "      <td>21.52290</td>\n",
       "      <td>44</td>\n",
       "      <td>NaN</td>\n",
       "      <td>NaN</td>\n",
       "      <td>402.0</td>\n",
       "      <td>2022-12-11</td>\n",
       "    </tr>\n",
       "    <tr>\n",
       "      <th>26702</th>\n",
       "      <td>67.01670</td>\n",
       "      <td>27.21670</td>\n",
       "      <td>43</td>\n",
       "      <td>-4.762500</td>\n",
       "      <td>-4.896875</td>\n",
       "      <td>491.0</td>\n",
       "      <td>2011-12-03</td>\n",
       "    </tr>\n",
       "    <tr>\n",
       "      <th>99217</th>\n",
       "      <td>74.51670</td>\n",
       "      <td>19.01670</td>\n",
       "      <td>31</td>\n",
       "      <td>4.377083</td>\n",
       "      <td>3.040625</td>\n",
       "      <td>16.0</td>\n",
       "      <td>2007-08-29</td>\n",
       "    </tr>\n",
       "    <tr>\n",
       "      <th>30935</th>\n",
       "      <td>67.26670</td>\n",
       "      <td>14.36670</td>\n",
       "      <td>11</td>\n",
       "      <td>-2.218750</td>\n",
       "      <td>-3.387500</td>\n",
       "      <td>1.0</td>\n",
       "      <td>2001-03-22</td>\n",
       "    </tr>\n",
       "    <tr>\n",
       "      <th>1371</th>\n",
       "      <td>65.03330</td>\n",
       "      <td>24.80000</td>\n",
       "      <td>18</td>\n",
       "      <td>11.837500</td>\n",
       "      <td>6.487500</td>\n",
       "      <td>6.0</td>\n",
       "      <td>2011-05-17</td>\n",
       "    </tr>\n",
       "  </tbody>\n",
       "</table>\n",
       "</div>"
      ],
      "text/plain": [
       "        Latitude  Longitude  8_day_period  T_air_day  T_air_night  Elevation  \\\n",
       "51080   68.08330   27.18330            14   4.250000    -0.200000      247.0   \n",
       "101923  77.00000   15.50000            34   1.700000    -1.000000       10.0   \n",
       "5059    65.41670   24.13330            21  11.719792    11.896875       13.0   \n",
       "23215   66.71670   27.16670            46   0.120000    -0.020000      208.0   \n",
       "22426   66.58330   26.01670             2  -9.312500    -9.115625      106.0   \n",
       "45524   67.81670   27.75000            19  13.403125    10.015625      243.0   \n",
       "28102   67.15000   20.65000            24  14.278125    11.981250      359.0   \n",
       "61249   68.46670   17.50000             1  -6.196875    -6.665625       17.0   \n",
       "81919   69.68330   18.91670            18   7.856250     5.534375        1.0   \n",
       "36192   67.36218   26.63755            33   8.957187     7.155156        NaN   \n",
       "84410   69.78330   20.96670            20  15.875000    11.931250        5.0   \n",
       "39756   67.65540   12.72700            14   5.478125     4.865625        4.0   \n",
       "16480   65.97300   26.36500            17   4.740625    -1.071875        0.0   \n",
       "77405   69.46670   25.50000            26  16.043750    11.309375      129.0   \n",
       "47733   67.96670   23.68330            24  14.453125    11.806250      253.0   \n",
       "66900   68.67620   21.52290            44        NaN          NaN      402.0   \n",
       "26702   67.01670   27.21670            43  -4.762500    -4.896875      491.0   \n",
       "99217   74.51670   19.01670            31   4.377083     3.040625       16.0   \n",
       "30935   67.26670   14.36670            11  -2.218750    -3.387500        1.0   \n",
       "1371    65.03330   24.80000            18  11.837500     6.487500        6.0   \n",
       "\n",
       "             Date  \n",
       "51080  2011-04-15  \n",
       "101923 2020-09-22  \n",
       "5059   2007-06-10  \n",
       "23215  2013-12-27  \n",
       "22426  2012-01-09  \n",
       "45524  2022-05-25  \n",
       "28102  2019-07-04  \n",
       "61249  2016-01-01  \n",
       "81919  2012-05-16  \n",
       "36192  2022-09-14  \n",
       "84410  2021-06-02  \n",
       "39756  2018-04-15  \n",
       "16480  2020-05-08  \n",
       "77405  2010-07-20  \n",
       "47733  2019-07-04  \n",
       "66900  2022-12-11  \n",
       "26702  2011-12-03  \n",
       "99217  2007-08-29  \n",
       "30935  2001-03-22  \n",
       "1371   2011-05-17  "
      ]
     },
     "execution_count": 124,
     "metadata": {},
     "output_type": "execute_result"
    }
   ],
   "source": [
    "eight_day_avg.sample(20)"
   ]
  },
  {
   "cell_type": "code",
   "execution_count": null,
   "metadata": {
    "execution": {
     "iopub.execute_input": "2024-11-23T12:12:40.706058Z",
     "iopub.status.busy": "2024-11-23T12:12:40.705599Z",
     "iopub.status.idle": "2024-11-23T12:12:41.958079Z",
     "shell.execute_reply": "2024-11-23T12:12:41.956970Z",
     "shell.execute_reply.started": "2024-11-23T12:12:40.706010Z"
    },
    "trusted": true
   },
   "outputs": [],
   "source": [
    "# Assuming 'day_temperature' and 'night_temperature' columns are in both dataframes\n",
    "joined_df['day_diff'] = joined_df['LST_Day_1km'] - joined_df['T_air_day']\n",
    "joined_df['night_diff'] = joined_df['LST_Night_1km'] - joined_df['T_air_night']\n",
    "\n",
    "# Prepare data for scatter plot\n",
    "scatter_data = joined_df[['day_diff', 'night_diff']]\n",
    "\n",
    "# Create the scatter plot\n",
    "plt.figure(figsize=(12, 9))\n",
    "sns.scatterplot(data=scatter_data, x='day_diff', y='night_diff', alpha=0.7, edgecolor=None)\n",
    "\n",
    "# Add labels and title\n",
    "plt.xlabel('Day Temperature Difference (°C)', fontsize=16)\n",
    "plt.ylabel('Night Temperature Difference (°C)', fontsize=16)\n",
    "plt.title('Scatter Plot of Day vs Night Temperature Differences', fontsize=20)\n",
    "\n",
    "# Show plot\n",
    "plt.grid(alpha=0.3)\n",
    "plt.tight_layout()\n",
    "plt.savefig('dayvsnight.png')\n",
    "plt.show()"
   ]
  },
  {
   "cell_type": "code",
   "execution_count": null,
   "metadata": {
    "execution": {
     "iopub.execute_input": "2024-11-23T12:12:53.787702Z",
     "iopub.status.busy": "2024-11-23T12:12:53.787336Z",
     "iopub.status.idle": "2024-11-23T12:12:54.485172Z",
     "shell.execute_reply": "2024-11-23T12:12:54.484099Z",
     "shell.execute_reply.started": "2024-11-23T12:12:53.787670Z"
    },
    "trusted": true
   },
   "outputs": [],
   "source": [
    "# Prepare data for scatter plot\n",
    "scatter_data = joined_df[['T_air_day', 'day_diff']].sample(6000)\n",
    "\n",
    "# Create the scatter plot\n",
    "plt.figure(figsize=(12, 9))\n",
    "sns.regplot(\n",
    "    data=scatter_data,\n",
    "    x='T_air_day',\n",
    "    y='day_diff',\n",
    "    order=3,\n",
    "    scatter_kws={'alpha': 0.7},  # Transparency for scatter points\n",
    "    line_kws={'color': 'red'},  # Line color for the trend curve\n",
    "    ci=None  # Removes confidence intervals\n",
    ")\n",
    "\n",
    "# Add labels and title\n",
    "plt.axhline(y=0, color='blue', linestyle='--', linewidth=2, label='y = 0')\n",
    "plt.xlabel('Day Temperature in SITU (°C)', fontsize=16)\n",
    "plt.ylabel('Day Temperature Difference (°C)', fontsize=16)\n",
    "plt.title('Scatter Plot of Day Temperature Difference vs Day Temperature in SITU (6000 Samples)', fontsize=20)\n",
    "\n",
    "# Show plot\n",
    "plt.grid(alpha=0.3)\n",
    "plt.tight_layout()\n",
    "plt.savefig('dayvsdiff.png')\n",
    "plt.show()"
   ]
  },
  {
   "cell_type": "code",
   "execution_count": null,
   "metadata": {
    "execution": {
     "iopub.execute_input": "2024-11-23T12:13:14.192741Z",
     "iopub.status.busy": "2024-11-23T12:13:14.192330Z",
     "iopub.status.idle": "2024-11-23T12:13:14.876752Z",
     "shell.execute_reply": "2024-11-23T12:13:14.875651Z",
     "shell.execute_reply.started": "2024-11-23T12:13:14.192701Z"
    },
    "trusted": true
   },
   "outputs": [],
   "source": [
    "# Prepare data for scatter plot\n",
    "scatter_data = joined_df[['T_air_night', 'night_diff']].sample(6000)\n",
    "\n",
    "# Create the scatter plot\n",
    "plt.figure(figsize=(12, 9))\n",
    "sns.regplot(\n",
    "    data=scatter_data,\n",
    "    x='T_air_night',\n",
    "    y='night_diff',\n",
    "    order=3,\n",
    "    scatter_kws={'alpha': 0.7},  # Transparency for scatter points\n",
    "    line_kws={'color': 'red'},  # Line color for the trend curve\n",
    "    ci=None  # Removes confidence intervals\n",
    ")\n",
    "\n",
    "# Add labels and title\n",
    "plt.axhline(y=0, color='blue', linestyle='--', linewidth=2, label='y = 0')\n",
    "plt.xlabel('Night Temperature in SITU (°C)', fontsize=16)\n",
    "plt.ylabel('Night Temperature Difference (°C)', fontsize=16)\n",
    "plt.title('Scatter Plot of Night Temperature Difference vs Night Temperature in SITU (6000 Samples)', fontsize=20)\n",
    "\n",
    "# Show plot\n",
    "plt.grid(alpha=0.3)\n",
    "plt.tight_layout()\n",
    "plt.savefig('nightvsdiff.png')\n",
    "plt.show()"
   ]
  },
  {
   "cell_type": "code",
   "execution_count": null,
   "metadata": {
    "execution": {
     "iopub.execute_input": "2024-11-23T10:38:51.404089Z",
     "iopub.status.busy": "2024-11-23T10:38:51.403658Z",
     "iopub.status.idle": "2024-11-23T10:38:51.513846Z",
     "shell.execute_reply": "2024-11-23T10:38:51.512743Z",
     "shell.execute_reply.started": "2024-11-23T10:38:51.404054Z"
    },
    "trusted": true
   },
   "outputs": [],
   "source": [
    "df_8_no = pd.read_parquet('/kaggle/input/preprocessed-parquet/joined_8days_no.parquet')"
   ]
  },
  {
   "cell_type": "code",
   "execution_count": null,
   "metadata": {
    "execution": {
     "iopub.execute_input": "2024-11-23T10:39:06.208348Z",
     "iopub.status.busy": "2024-11-23T10:39:06.207927Z",
     "iopub.status.idle": "2024-11-23T10:39:06.216468Z",
     "shell.execute_reply": "2024-11-23T10:39:06.215406Z",
     "shell.execute_reply.started": "2024-11-23T10:39:06.208311Z"
    },
    "trusted": true
   },
   "outputs": [],
   "source": [
    "df_8_no['day_diff'] = df_8_no['value_day'] - df_8_no['T_air_day']\n",
    "df_8_no['night_diff'] = df_8_no['value_night'] - df_8_no['T_air_night']"
   ]
  },
  {
   "cell_type": "code",
   "execution_count": null,
   "metadata": {
    "execution": {
     "iopub.execute_input": "2024-11-23T10:39:08.116003Z",
     "iopub.status.busy": "2024-11-23T10:39:08.115572Z",
     "iopub.status.idle": "2024-11-23T10:39:08.124414Z",
     "shell.execute_reply": "2024-11-23T10:39:08.123142Z",
     "shell.execute_reply.started": "2024-11-23T10:39:08.115968Z"
    },
    "trusted": true
   },
   "outputs": [],
   "source": [
    "df_8_no['qc_night'] = df_8_no['qc_night'].replace('').fillna(0)"
   ]
  }
 ],
 "metadata": {
  "kaggle": {
   "accelerator": "none",
   "dataSources": [
    {
     "datasetId": 6126667,
     "sourceId": 9960657,
     "sourceType": "datasetVersion"
    },
    {
     "datasetId": 6148172,
     "sourceId": 10057871,
     "sourceType": "datasetVersion"
    },
    {
     "datasetId": 6307173,
     "sourceId": 10206272,
     "sourceType": "datasetVersion"
    }
   ],
   "dockerImageVersionId": 30786,
   "isGpuEnabled": false,
   "isInternetEnabled": true,
   "language": "python",
   "sourceType": "notebook"
  },
  "kernelspec": {
   "display_name": "Python 3",
   "language": "python",
   "name": "python3"
  },
  "language_info": {
   "codemirror_mode": {
    "name": "ipython",
    "version": 3
   },
   "file_extension": ".py",
   "mimetype": "text/x-python",
   "name": "python",
   "nbconvert_exporter": "python",
   "pygments_lexer": "ipython3",
   "version": "3.10.14"
  }
 },
 "nbformat": 4,
 "nbformat_minor": 4
}
